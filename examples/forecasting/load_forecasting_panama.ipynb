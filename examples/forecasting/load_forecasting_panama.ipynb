{
 "cells": [
  {
   "cell_type": "markdown",
   "metadata": {},
   "source": [
    "# Short-term electricity load forecasting (Panama case study) using LSTM networks\n",
    "\n",
    "Source: https://data.mendeley.com/datasets/byx7sztj59/1\n",
    "\n",
    "Downloads and preproceses the data. Then, trains an LSTM model from Neuromancer blocks and plots the forecast.\n"
   ]
  },
  {
   "cell_type": "markdown",
   "metadata": {},
   "source": [
    "### Import statements\n"
   ]
  },
  {
   "cell_type": "code",
   "execution_count": 1,
   "metadata": {},
   "outputs": [],
   "source": [
    "\n",
    "import matplotlib.pyplot as plt\n",
    "import numpy as np\n",
    "import pandas as pd\n",
    "import requests\n",
    "from sklearn.metrics import mean_absolute_error, mean_absolute_percentage_error, mean_squared_error\n",
    "from sklearn.preprocessing import MinMaxScaler\n",
    "import torch\n",
    "import torch.nn as nn\n",
    "from torch.utils.data import DataLoader, Dataset"
   ]
  },
  {
   "cell_type": "markdown",
   "metadata": {},
   "source": [
    "### Set numpy and torch seeds for reproducibility\n"
   ]
  },
  {
   "cell_type": "code",
   "execution_count": 2,
   "metadata": {},
   "outputs": [],
   "source": [
    "torch.manual_seed(0)\n",
    "np.random.seed(0)"
   ]
  },
  {
   "cell_type": "markdown",
   "metadata": {},
   "source": [
    "### Download data set\n",
    "\n",
    "Short-term electricity load forecasting (Panama case study) from Mendeley Data \n",
    "\n",
    "(DOI:10.17632/byx7sztj59.1)\n"
   ]
  },
  {
   "cell_type": "code",
   "execution_count": 3,
   "metadata": {},
   "outputs": [],
   "source": [
    "url = \"https://data.mendeley.com/public-files/datasets/byx7sztj59/files/94ef3285-7ce4-43e2-9fd3-9cb3f592b89c/file_downloaded\"\n",
    "response = requests.get(url, stream=True)\n",
    "\n",
    "file_name = \"continuous_dataset.csv\"\n",
    "with open(file_name, \"wb\") as file:\n",
    "    file.write(response.content)\n",
    "    "
   ]
  },
  {
   "cell_type": "markdown",
   "metadata": {},
   "source": [
    "### Read csv file as Pandas dataframe and set index\n"
   ]
  },
  {
   "cell_type": "code",
   "execution_count": 4,
   "metadata": {},
   "outputs": [
    {
     "data": {
      "text/html": [
       "<div>\n",
       "<style scoped>\n",
       "    .dataframe tbody tr th:only-of-type {\n",
       "        vertical-align: middle;\n",
       "    }\n",
       "\n",
       "    .dataframe tbody tr th {\n",
       "        vertical-align: top;\n",
       "    }\n",
       "\n",
       "    .dataframe thead th {\n",
       "        text-align: right;\n",
       "    }\n",
       "</style>\n",
       "<table border=\"1\" class=\"dataframe\">\n",
       "  <thead>\n",
       "    <tr style=\"text-align: right;\">\n",
       "      <th></th>\n",
       "      <th>nat_demand</th>\n",
       "      <th>T2M_toc</th>\n",
       "      <th>QV2M_toc</th>\n",
       "      <th>TQL_toc</th>\n",
       "      <th>W2M_toc</th>\n",
       "      <th>T2M_san</th>\n",
       "      <th>QV2M_san</th>\n",
       "      <th>TQL_san</th>\n",
       "      <th>W2M_san</th>\n",
       "      <th>T2M_dav</th>\n",
       "      <th>QV2M_dav</th>\n",
       "      <th>TQL_dav</th>\n",
       "      <th>W2M_dav</th>\n",
       "      <th>Holiday_ID</th>\n",
       "      <th>holiday</th>\n",
       "      <th>school</th>\n",
       "    </tr>\n",
       "    <tr>\n",
       "      <th>datetime</th>\n",
       "      <th></th>\n",
       "      <th></th>\n",
       "      <th></th>\n",
       "      <th></th>\n",
       "      <th></th>\n",
       "      <th></th>\n",
       "      <th></th>\n",
       "      <th></th>\n",
       "      <th></th>\n",
       "      <th></th>\n",
       "      <th></th>\n",
       "      <th></th>\n",
       "      <th></th>\n",
       "      <th></th>\n",
       "      <th></th>\n",
       "      <th></th>\n",
       "    </tr>\n",
       "  </thead>\n",
       "  <tbody>\n",
       "    <tr>\n",
       "      <th>2015-01-03 01:00:00</th>\n",
       "      <td>970.3450</td>\n",
       "      <td>25.865259</td>\n",
       "      <td>0.018576</td>\n",
       "      <td>0.016174</td>\n",
       "      <td>21.850546</td>\n",
       "      <td>23.482446</td>\n",
       "      <td>0.017272</td>\n",
       "      <td>0.001855</td>\n",
       "      <td>10.328949</td>\n",
       "      <td>22.662134</td>\n",
       "      <td>0.016562</td>\n",
       "      <td>0.096100</td>\n",
       "      <td>5.364148</td>\n",
       "      <td>0</td>\n",
       "      <td>0</td>\n",
       "      <td>0</td>\n",
       "    </tr>\n",
       "    <tr>\n",
       "      <th>2015-01-03 02:00:00</th>\n",
       "      <td>912.1755</td>\n",
       "      <td>25.899255</td>\n",
       "      <td>0.018653</td>\n",
       "      <td>0.016418</td>\n",
       "      <td>22.166944</td>\n",
       "      <td>23.399255</td>\n",
       "      <td>0.017265</td>\n",
       "      <td>0.001327</td>\n",
       "      <td>10.681517</td>\n",
       "      <td>22.578943</td>\n",
       "      <td>0.016509</td>\n",
       "      <td>0.087646</td>\n",
       "      <td>5.572471</td>\n",
       "      <td>0</td>\n",
       "      <td>0</td>\n",
       "      <td>0</td>\n",
       "    </tr>\n",
       "    <tr>\n",
       "      <th>2015-01-03 03:00:00</th>\n",
       "      <td>900.2688</td>\n",
       "      <td>25.937280</td>\n",
       "      <td>0.018768</td>\n",
       "      <td>0.015480</td>\n",
       "      <td>22.454911</td>\n",
       "      <td>23.343530</td>\n",
       "      <td>0.017211</td>\n",
       "      <td>0.001428</td>\n",
       "      <td>10.874924</td>\n",
       "      <td>22.531030</td>\n",
       "      <td>0.016479</td>\n",
       "      <td>0.078735</td>\n",
       "      <td>5.871184</td>\n",
       "      <td>0</td>\n",
       "      <td>0</td>\n",
       "      <td>0</td>\n",
       "    </tr>\n",
       "    <tr>\n",
       "      <th>2015-01-03 04:00:00</th>\n",
       "      <td>889.9538</td>\n",
       "      <td>25.957544</td>\n",
       "      <td>0.018890</td>\n",
       "      <td>0.016273</td>\n",
       "      <td>22.110481</td>\n",
       "      <td>23.238794</td>\n",
       "      <td>0.017128</td>\n",
       "      <td>0.002599</td>\n",
       "      <td>10.518620</td>\n",
       "      <td>22.512231</td>\n",
       "      <td>0.016487</td>\n",
       "      <td>0.068390</td>\n",
       "      <td>5.883621</td>\n",
       "      <td>0</td>\n",
       "      <td>0</td>\n",
       "      <td>0</td>\n",
       "    </tr>\n",
       "    <tr>\n",
       "      <th>2015-01-03 05:00:00</th>\n",
       "      <td>893.6865</td>\n",
       "      <td>25.973840</td>\n",
       "      <td>0.018981</td>\n",
       "      <td>0.017281</td>\n",
       "      <td>21.186089</td>\n",
       "      <td>23.075403</td>\n",
       "      <td>0.017059</td>\n",
       "      <td>0.001729</td>\n",
       "      <td>9.733589</td>\n",
       "      <td>22.481653</td>\n",
       "      <td>0.016456</td>\n",
       "      <td>0.064362</td>\n",
       "      <td>5.611724</td>\n",
       "      <td>0</td>\n",
       "      <td>0</td>\n",
       "      <td>0</td>\n",
       "    </tr>\n",
       "    <tr>\n",
       "      <th>...</th>\n",
       "      <td>...</td>\n",
       "      <td>...</td>\n",
       "      <td>...</td>\n",
       "      <td>...</td>\n",
       "      <td>...</td>\n",
       "      <td>...</td>\n",
       "      <td>...</td>\n",
       "      <td>...</td>\n",
       "      <td>...</td>\n",
       "      <td>...</td>\n",
       "      <td>...</td>\n",
       "      <td>...</td>\n",
       "      <td>...</td>\n",
       "      <td>...</td>\n",
       "      <td>...</td>\n",
       "      <td>...</td>\n",
       "    </tr>\n",
       "    <tr>\n",
       "      <th>2020-06-26 20:00:00</th>\n",
       "      <td>1128.5592</td>\n",
       "      <td>27.246545</td>\n",
       "      <td>0.020303</td>\n",
       "      <td>0.055511</td>\n",
       "      <td>9.289304</td>\n",
       "      <td>25.715295</td>\n",
       "      <td>0.019746</td>\n",
       "      <td>0.121552</td>\n",
       "      <td>1.990773</td>\n",
       "      <td>23.746545</td>\n",
       "      <td>0.018381</td>\n",
       "      <td>0.150879</td>\n",
       "      <td>2.444658</td>\n",
       "      <td>0</td>\n",
       "      <td>0</td>\n",
       "      <td>1</td>\n",
       "    </tr>\n",
       "    <tr>\n",
       "      <th>2020-06-26 21:00:00</th>\n",
       "      <td>1112.7488</td>\n",
       "      <td>27.099573</td>\n",
       "      <td>0.020395</td>\n",
       "      <td>0.053848</td>\n",
       "      <td>9.837504</td>\n",
       "      <td>25.552698</td>\n",
       "      <td>0.019632</td>\n",
       "      <td>0.153870</td>\n",
       "      <td>2.094459</td>\n",
       "      <td>23.693323</td>\n",
       "      <td>0.018320</td>\n",
       "      <td>0.156311</td>\n",
       "      <td>2.515814</td>\n",
       "      <td>0</td>\n",
       "      <td>0</td>\n",
       "      <td>1</td>\n",
       "    </tr>\n",
       "    <tr>\n",
       "      <th>2020-06-26 22:00:00</th>\n",
       "      <td>1081.5680</td>\n",
       "      <td>26.971155</td>\n",
       "      <td>0.020448</td>\n",
       "      <td>0.057251</td>\n",
       "      <td>10.262464</td>\n",
       "      <td>25.393030</td>\n",
       "      <td>0.019518</td>\n",
       "      <td>0.144531</td>\n",
       "      <td>2.396369</td>\n",
       "      <td>23.658655</td>\n",
       "      <td>0.018327</td>\n",
       "      <td>0.153259</td>\n",
       "      <td>2.800717</td>\n",
       "      <td>0</td>\n",
       "      <td>0</td>\n",
       "      <td>1</td>\n",
       "    </tr>\n",
       "    <tr>\n",
       "      <th>2020-06-26 23:00:00</th>\n",
       "      <td>1041.6240</td>\n",
       "      <td>26.867487</td>\n",
       "      <td>0.020464</td>\n",
       "      <td>0.064178</td>\n",
       "      <td>10.326567</td>\n",
       "      <td>25.258112</td>\n",
       "      <td>0.019403</td>\n",
       "      <td>0.108063</td>\n",
       "      <td>2.720871</td>\n",
       "      <td>23.601862</td>\n",
       "      <td>0.018358</td>\n",
       "      <td>0.152771</td>\n",
       "      <td>3.138132</td>\n",
       "      <td>0</td>\n",
       "      <td>0</td>\n",
       "      <td>1</td>\n",
       "    </tr>\n",
       "    <tr>\n",
       "      <th>2020-06-27 00:00:00</th>\n",
       "      <td>1013.5683</td>\n",
       "      <td>26.750330</td>\n",
       "      <td>0.020441</td>\n",
       "      <td>0.063965</td>\n",
       "      <td>10.198346</td>\n",
       "      <td>25.125330</td>\n",
       "      <td>0.019281</td>\n",
       "      <td>0.100189</td>\n",
       "      <td>2.785751</td>\n",
       "      <td>23.562830</td>\n",
       "      <td>0.018404</td>\n",
       "      <td>0.162598</td>\n",
       "      <td>3.286878</td>\n",
       "      <td>0</td>\n",
       "      <td>0</td>\n",
       "      <td>1</td>\n",
       "    </tr>\n",
       "  </tbody>\n",
       "</table>\n",
       "<p>48048 rows × 16 columns</p>\n",
       "</div>"
      ],
      "text/plain": [
       "                     nat_demand    T2M_toc  QV2M_toc   TQL_toc    W2M_toc  \\\n",
       "datetime                                                                    \n",
       "2015-01-03 01:00:00    970.3450  25.865259  0.018576  0.016174  21.850546   \n",
       "2015-01-03 02:00:00    912.1755  25.899255  0.018653  0.016418  22.166944   \n",
       "2015-01-03 03:00:00    900.2688  25.937280  0.018768  0.015480  22.454911   \n",
       "2015-01-03 04:00:00    889.9538  25.957544  0.018890  0.016273  22.110481   \n",
       "2015-01-03 05:00:00    893.6865  25.973840  0.018981  0.017281  21.186089   \n",
       "...                         ...        ...       ...       ...        ...   \n",
       "2020-06-26 20:00:00   1128.5592  27.246545  0.020303  0.055511   9.289304   \n",
       "2020-06-26 21:00:00   1112.7488  27.099573  0.020395  0.053848   9.837504   \n",
       "2020-06-26 22:00:00   1081.5680  26.971155  0.020448  0.057251  10.262464   \n",
       "2020-06-26 23:00:00   1041.6240  26.867487  0.020464  0.064178  10.326567   \n",
       "2020-06-27 00:00:00   1013.5683  26.750330  0.020441  0.063965  10.198346   \n",
       "\n",
       "                       T2M_san  QV2M_san   TQL_san    W2M_san    T2M_dav  \\\n",
       "datetime                                                                   \n",
       "2015-01-03 01:00:00  23.482446  0.017272  0.001855  10.328949  22.662134   \n",
       "2015-01-03 02:00:00  23.399255  0.017265  0.001327  10.681517  22.578943   \n",
       "2015-01-03 03:00:00  23.343530  0.017211  0.001428  10.874924  22.531030   \n",
       "2015-01-03 04:00:00  23.238794  0.017128  0.002599  10.518620  22.512231   \n",
       "2015-01-03 05:00:00  23.075403  0.017059  0.001729   9.733589  22.481653   \n",
       "...                        ...       ...       ...        ...        ...   \n",
       "2020-06-26 20:00:00  25.715295  0.019746  0.121552   1.990773  23.746545   \n",
       "2020-06-26 21:00:00  25.552698  0.019632  0.153870   2.094459  23.693323   \n",
       "2020-06-26 22:00:00  25.393030  0.019518  0.144531   2.396369  23.658655   \n",
       "2020-06-26 23:00:00  25.258112  0.019403  0.108063   2.720871  23.601862   \n",
       "2020-06-27 00:00:00  25.125330  0.019281  0.100189   2.785751  23.562830   \n",
       "\n",
       "                     QV2M_dav   TQL_dav   W2M_dav  Holiday_ID  holiday  school  \n",
       "datetime                                                                        \n",
       "2015-01-03 01:00:00  0.016562  0.096100  5.364148           0        0       0  \n",
       "2015-01-03 02:00:00  0.016509  0.087646  5.572471           0        0       0  \n",
       "2015-01-03 03:00:00  0.016479  0.078735  5.871184           0        0       0  \n",
       "2015-01-03 04:00:00  0.016487  0.068390  5.883621           0        0       0  \n",
       "2015-01-03 05:00:00  0.016456  0.064362  5.611724           0        0       0  \n",
       "...                       ...       ...       ...         ...      ...     ...  \n",
       "2020-06-26 20:00:00  0.018381  0.150879  2.444658           0        0       1  \n",
       "2020-06-26 21:00:00  0.018320  0.156311  2.515814           0        0       1  \n",
       "2020-06-26 22:00:00  0.018327  0.153259  2.800717           0        0       1  \n",
       "2020-06-26 23:00:00  0.018358  0.152771  3.138132           0        0       1  \n",
       "2020-06-27 00:00:00  0.018404  0.162598  3.286878           0        0       1  \n",
       "\n",
       "[48048 rows x 16 columns]"
      ]
     },
     "execution_count": 4,
     "metadata": {},
     "output_type": "execute_result"
    }
   ],
   "source": [
    "\n",
    "df = pd.read_csv(file_name)\n",
    "df = df.set_index(\"datetime\")\n",
    "df.index = pd.to_datetime(df.index)\n",
    "df"
   ]
  },
  {
   "cell_type": "markdown",
   "metadata": {},
   "source": [
    "\n",
    "### Drop uninformative features\n",
    "#### Column descriptions (from https://data.mendeley.com/datasets/byx7sztj59/1/files/6952a984-f474-437f-8640-67d773caea93)\n",
    "- nat_demand: National electricity load (Target or Dependent variable) (MWh)\n",
    "- T2M_toc: Temperature at 2 meters in Tocumen, Panama city (ºC)\n",
    "- QV2M_toc: Relative humidity at 2 meters in Tocumen, Panama city (%)\n",
    "- TQL_toc: Liquid precipitation in Tocumen, Panama city liters/m2\n",
    "- W2M_toc: Wind Speed at 2 meters in Tocumen, Panama city m/s\n",
    "- T2M_san: Temperature at 2 meters in Santiago city ºC\n",
    "- QV2M_san: Relative humidity at 2 meters in Santiago city %\n",
    "- TQL_san: Liquid precipitation in Santiago city l/m2\n",
    "- W2M_san: Wind Speed at 2 meters in Santiago city m/s\n",
    "- T2M_dav: Temperature at 2 meters in David city ºC\n",
    "- QV2M_dav: Relative humidity at 2 meters in David city %\n",
    "- TQL_dav: Liquid precipitation in David city l/m2\n",
    "- W2M_dav: Wind Speed at 2 meters in David city m/s\n",
    "- Holiday_ID: Unique identification number integer\n",
    "- holiday: Holiday binary indicator 1 = holiday, 0 = regular day\n",
    "- school: School period binary indicator 1 = school, 0 = vacations\n"
   ]
  },
  {
   "cell_type": "code",
   "execution_count": 5,
   "metadata": {},
   "outputs": [
    {
     "data": {
      "text/plain": [
       "Index(['nat_demand', 'T2M_toc', 'QV2M_toc', 'TQL_toc', 'W2M_toc', 'T2M_san',\n",
       "       'QV2M_san', 'TQL_san', 'W2M_san', 'T2M_dav', 'QV2M_dav', 'TQL_dav',\n",
       "       'W2M_dav', 'holiday', 'school'],\n",
       "      dtype='object')"
      ]
     },
     "execution_count": 5,
     "metadata": {},
     "output_type": "execute_result"
    }
   ],
   "source": [
    "\n",
    "excluded_cols = ['Holiday_ID']\n",
    "df = df.drop(columns=excluded_cols)\n",
    "df.columns\n"
   ]
  },
  {
   "cell_type": "markdown",
   "metadata": {},
   "source": [
    "### Split the data into training and test sets"
   ]
  },
  {
   "cell_type": "code",
   "execution_count": 6,
   "metadata": {},
   "outputs": [],
   "source": [
    "\n",
    "seq_length = 72 # lookback = 72 hours\n",
    "train_split = 0.7\n",
    "val_split = 0.15\n",
    "test_split = 1 - (train_split + val_split)\n",
    "\n",
    "train_size = int(train_split * len(df))\n",
    "val_size = int(val_split * len(df))\n",
    "\n",
    "# Train set\n",
    "df_train = df[:train_size]\n",
    "\n",
    "# Val set\n",
    "val_start = train_size + seq_length\n",
    "val_end = val_start + val_size\n",
    "df_val = df[val_start:val_end] # add gap between train and test datasets to prevent data leakage:]\n",
    "\n",
    "# Test set\n",
    "df_test = df[val_end+seq_length:] # add gap between train and test datasets to prevent data leakage:]"
   ]
  },
  {
   "cell_type": "markdown",
   "metadata": {},
   "source": [
    "### Fit scaler to train data and scale train data"
   ]
  },
  {
   "cell_type": "code",
   "execution_count": 10,
   "metadata": {},
   "outputs": [
    {
     "data": {
      "text/plain": [
       "(-1.0, 1.0000000000000002)"
      ]
     },
     "execution_count": 10,
     "metadata": {},
     "output_type": "execute_result"
    }
   ],
   "source": [
    "\n",
    "scaler = MinMaxScaler(feature_range=(-1,1))\n",
    "train_data = scaler.fit_transform(df_train)\n",
    "train_data.min(), train_data.max()\n"
   ]
  },
  {
   "cell_type": "markdown",
   "metadata": {},
   "source": [
    "### Transform val and test data using the scaler parameters for train data"
   ]
  },
  {
   "cell_type": "code",
   "execution_count": 13,
   "metadata": {},
   "outputs": [],
   "source": [
    "val_data = scaler.transform(df_val)\n",
    "test_data = scaler.transform(df_test)"
   ]
  },
  {
   "cell_type": "markdown",
   "metadata": {},
   "source": [
    "### Create sequential data with a arbitrary window size"
   ]
  },
  {
   "cell_type": "code",
   "execution_count": 16,
   "metadata": {},
   "outputs": [],
   "source": [
    "def create_timeseries(data, len_sequence):\n",
    "    X, y = [], []\n",
    "    for i in range(len(data) - len_sequence):\n",
    "        X.append(data[i:i+len_sequence])\n",
    "        y.append(data[i+len_sequence][0]) # columm 0 is the load\n",
    "\n",
    "    X, y = np.array(X), np.array(y).reshape(-1,1)\n",
    "    return X, y\n",
    "\n",
    "X_train, y_train = create_timeseries(train_data, seq_length)\n",
    "X_val, y_val = create_timeseries(val_data, seq_length)\n",
    "X_test, y_test = create_timeseries(test_data, seq_length)"
   ]
  },
  {
   "cell_type": "markdown",
   "metadata": {},
   "source": [
    "### Create a custom dataset class for PyTorch DataLoader"
   ]
  },
  {
   "cell_type": "code",
   "execution_count": 17,
   "metadata": {},
   "outputs": [],
   "source": [
    "from neuromancer.dataset import default_collate\n",
    "\n",
    "\n",
    "class PanamaLoadDataset(Dataset):\n",
    "    def __init__(self, X, y, type=\"Train\"):\n",
    "        self.X = torch.tensor(X, dtype=torch.float32)\n",
    "        self.y = torch.tensor(y, dtype=torch.float32)\n",
    "        self.name = type.lower()\n",
    "\n",
    "    def __len__(self):\n",
    "        return len(self.X)\n",
    "\n",
    "    def collate_fn(self, batch):\n",
    "        \"\"\"Wraps the default PyTorch batch collation function and adds a name field.\n",
    "\n",
    "        :param batch: (dict str: torch.Tensor) dataset sample.\n",
    "        \"\"\"\n",
    "        batch = default_collate(batch)\n",
    "        batch['name'] = self.name\n",
    "        return batch\n",
    "\n",
    "    def __getitem__(self, index):\n",
    "        \n",
    "        if self.name == 'test':\n",
    "            return {\n",
    "                'X': self.X[index],\n",
    "                'Y': self.y[index],\n",
    "                'name': self.name\n",
    "            }\n",
    "        else:\n",
    "            return {\n",
    "                'X': self.X[index],\n",
    "                'Y': self.y[index]\n",
    "            }"
   ]
  },
  {
   "cell_type": "markdown",
   "metadata": {},
   "source": [
    "\n",
    "### Set experiment hyperparameters and train, val, test data sets"
   ]
  },
  {
   "cell_type": "code",
   "execution_count": 18,
   "metadata": {},
   "outputs": [],
   "source": [
    "# Hyperparameters\n",
    "input_size = X_train.shape[2]\n",
    "hidden_size = 64\n",
    "num_layers = 2\n",
    "output_size = 1\n",
    "learning_rate = 0.00001\n",
    "num_epochs = 100\n",
    "batch_size = 64\n",
    "device = \"cuda\"\n",
    "\n",
    "# Create data loaders\n",
    "train_dataset = PanamaLoadDataset(X_train, y_train, type=\"Train\")\n",
    "train_loader = DataLoader(train_dataset, batch_size=batch_size, collate_fn = train_dataset.collate_fn, shuffle=False)\n",
    "\n",
    "val_dataset = PanamaLoadDataset(X_val, y_val, type=\"Dev\")\n",
    "val_loader = DataLoader(val_dataset, batch_size=batch_size, collate_fn = val_dataset.collate_fn, shuffle=False)\n",
    "\n",
    "test_dataset = PanamaLoadDataset(X_test, y_test, type=\"Test\")\n",
    "test_loader = DataLoader(test_dataset, batch_size=batch_size, collate_fn = test_dataset.collate_fn, shuffle=False)\n",
    "\n"
   ]
  },
  {
   "cell_type": "markdown",
   "metadata": {},
   "source": [
    "### Initialize the neural network from Neuromancer blocks"
   ]
  },
  {
   "cell_type": "code",
   "execution_count": 19,
   "metadata": {},
   "outputs": [
    {
     "data": {
      "text/plain": [
       "PytorchLSTM(\n",
       "  (lstm): LSTM(15, 64, num_layers=2)\n",
       "  (output): Linear(in_features=64, out_features=1, bias=True)\n",
       ")"
      ]
     },
     "execution_count": 19,
     "metadata": {},
     "output_type": "execute_result"
    }
   ],
   "source": [
    "from neuromancer.modules import blocks\n",
    "\n",
    "\n",
    "block_lstm = blocks.PytorchLSTM(\n",
    "    insize=input_size, \n",
    "    outsize=output_size, \n",
    "    hsizes=[hidden_size] * num_layers,\n",
    "    num_layers=num_layers,\n",
    "    linear_map=torch.nn.Linear, \n",
    "    nonlin=torch.nn.ReLU, \n",
    ")\n",
    "block_lstm"
   ]
  },
  {
   "cell_type": "markdown",
   "metadata": {},
   "source": [
    "### Use Neuromancer to define the Node, objective, constraints and problem"
   ]
  },
  {
   "cell_type": "code",
   "execution_count": 20,
   "metadata": {},
   "outputs": [
    {
     "name": "stdout",
     "output_type": "stream",
     "text": [
      "None\n"
     ]
    },
    {
     "data": {
      "image/png": "[encoded data removed]",
      "text/plain": [
       "<Figure size 640x480 with 1 Axes>"
      ]
     },
     "metadata": {},
     "output_type": "display_data"
    }
   ],
   "source": [
    "from neuromancer.system import Node\n",
    "from neuromancer.trainer import Trainer\n",
    "from neuromancer.problem import Problem\n",
    "from neuromancer.loggers import BasicLogger\n",
    "from neuromancer.constraint import variable\n",
    "from neuromancer.loss import PenaltyLoss\n",
    "\n",
    "\n",
    "model = block_lstm\n",
    "model = model.to(device)\n",
    "\n",
    "lstm_node = Node(model, ['X'],['predicted'], name = 'lstm')\n",
    "\n",
    "nodes = [lstm_node] #slice the target to load dim, then pass inputs into model\n",
    "\n",
    "predicted = variable('predicted')\n",
    "real = variable('Y')\n",
    "\n",
    "MSE = (real == predicted)^2 # Choose mean squared error as the loss function.\n",
    "MSE.name='mse'\n",
    "\n",
    "constraints = []\n",
    "objectives = [MSE] \n",
    "\n",
    "# create constrained optimization loss\n",
    "loss_ = PenaltyLoss(objectives, constraints)\n",
    "# construct constrained optimization problem\n",
    "problem = Problem(nodes, loss_)\n",
    "\n",
    "# create constrained optimization loss\n",
    "#loss = PenaltyLoss(objectives, constraints)\n",
    "optimizer = torch.optim.Adam(block_lstm.parameters(), lr=0.005) #we choose the Adam optimizer because it reports to have a faster convergence and little memory requirements\n",
    "\n",
    "batch_size = 64\n",
    "logger = BasicLogger(args=None, savedir='test', verbosity=1,\n",
    "                        stdout=['dev_loss', 'train_loss'])\n",
    "\n",
    "problem.show()"
   ]
  },
  {
   "cell_type": "markdown",
   "metadata": {},
   "source": [
    "### Initiate Neuromancer Trainer, train the model and restore the best model weights."
   ]
  },
  {
   "cell_type": "code",
   "execution_count": 21,
   "metadata": {},
   "outputs": [
    {
     "name": "stdout",
     "output_type": "stream",
     "text": [
      "Number of parameters: 54081\n",
      "epoch: 0\ttrain_loss: 0.00208\tdev_loss: 0.00202\teltime:  12.46302\n",
      "epoch: 1\ttrain_loss: 0.00198\tdev_loss: 0.00455\teltime:  13.45648\n",
      "epoch: 2\ttrain_loss: 0.00153\tdev_loss: 0.00388\teltime:  14.40611\n",
      "epoch: 3\ttrain_loss: 0.00155\tdev_loss: 0.00384\teltime:  15.34702\n",
      "epoch: 4\ttrain_loss: 0.00128\tdev_loss: 0.00360\teltime:  16.29933\n",
      "epoch: 5\ttrain_loss: 0.00124\tdev_loss: 0.00268\teltime:  17.25702\n",
      "epoch: 6\ttrain_loss: 0.00134\tdev_loss: 0.00257\teltime:  18.20785\n",
      "epoch: 7\ttrain_loss: 0.00139\tdev_loss: 0.00217\teltime:  19.15255\n",
      "epoch: 8\ttrain_loss: 0.00117\tdev_loss: 0.00197\teltime:  20.10240\n",
      "epoch: 9\ttrain_loss: 0.00084\tdev_loss: 0.00185\teltime:  21.09158\n",
      "epoch: 10\ttrain_loss: 0.00072\tdev_loss: 0.00169\teltime:  22.04750\n",
      "epoch: 11\ttrain_loss: 0.00062\tdev_loss: 0.00164\teltime:  22.98439\n",
      "epoch: 12\ttrain_loss: 0.00098\tdev_loss: 0.00165\teltime:  23.91880\n",
      "epoch: 13\ttrain_loss: 0.00068\tdev_loss: 0.00150\teltime:  24.86622\n",
      "epoch: 14\ttrain_loss: 0.00069\tdev_loss: 0.00164\teltime:  25.80893\n",
      "epoch: 15\ttrain_loss: 0.00093\tdev_loss: 0.00158\teltime:  26.71756\n",
      "epoch: 16\ttrain_loss: 0.00066\tdev_loss: 0.00128\teltime:  27.59904\n",
      "epoch: 17\ttrain_loss: 0.00086\tdev_loss: 0.00141\teltime:  28.47761\n",
      "epoch: 18\ttrain_loss: 0.00097\tdev_loss: 0.00137\teltime:  29.34735\n",
      "epoch: 19\ttrain_loss: 0.00068\tdev_loss: 0.00137\teltime:  30.21012\n",
      "epoch: 20\ttrain_loss: 0.00053\tdev_loss: 0.00130\teltime:  31.07289\n",
      "epoch: 21\ttrain_loss: 0.00082\tdev_loss: 0.00188\teltime:  31.94807\n",
      "epoch: 22\ttrain_loss: 0.00075\tdev_loss: 0.00116\teltime:  32.85498\n",
      "epoch: 23\ttrain_loss: 0.00080\tdev_loss: 0.00127\teltime:  33.79128\n",
      "epoch: 24\ttrain_loss: 0.00168\tdev_loss: 0.00355\teltime:  34.73390\n",
      "epoch: 25\ttrain_loss: 0.00113\tdev_loss: 0.00186\teltime:  35.68294\n",
      "epoch: 26\ttrain_loss: 0.00063\tdev_loss: 0.00142\teltime:  36.64163\n",
      "epoch: 27\ttrain_loss: 0.00043\tdev_loss: 0.00121\teltime:  37.60804\n",
      "epoch: 28\ttrain_loss: 0.00072\tdev_loss: 0.00119\teltime:  38.56994\n",
      "epoch: 29\ttrain_loss: 0.00071\tdev_loss: 0.00122\teltime:  39.51153\n",
      "epoch: 30\ttrain_loss: 0.00050\tdev_loss: 0.00111\teltime:  40.46929\n",
      "epoch: 31\ttrain_loss: 0.00049\tdev_loss: 0.00117\teltime:  41.40039\n",
      "epoch: 32\ttrain_loss: 0.00036\tdev_loss: 0.00116\teltime:  42.34106\n",
      "epoch: 33\ttrain_loss: 0.00042\tdev_loss: 0.00115\teltime:  43.27984\n",
      "epoch: 34\ttrain_loss: 0.00034\tdev_loss: 0.00124\teltime:  44.21519\n",
      "epoch: 35\ttrain_loss: 0.00047\tdev_loss: 0.00111\teltime:  45.18572\n",
      "epoch: 36\ttrain_loss: 0.00043\tdev_loss: 0.00112\teltime:  46.13573\n",
      "epoch: 37\ttrain_loss: 0.00044\tdev_loss: 0.00111\teltime:  47.07839\n",
      "epoch: 38\ttrain_loss: 0.00037\tdev_loss: 0.00102\teltime:  48.06367\n",
      "epoch: 39\ttrain_loss: 0.00038\tdev_loss: 0.00102\teltime:  48.99239\n",
      "epoch: 40\ttrain_loss: 0.00035\tdev_loss: 0.00105\teltime:  49.93162\n",
      "epoch: 41\ttrain_loss: 0.00045\tdev_loss: 0.00106\teltime:  50.87263\n",
      "epoch: 42\ttrain_loss: 0.00036\tdev_loss: 0.00112\teltime:  51.81575\n",
      "epoch: 43\ttrain_loss: 0.00027\tdev_loss: 0.00122\teltime:  52.76291\n",
      "epoch: 44\ttrain_loss: 0.00043\tdev_loss: 0.00117\teltime:  53.70521\n",
      "epoch: 45\ttrain_loss: 0.00019\tdev_loss: 0.00116\teltime:  54.64778\n",
      "epoch: 46\ttrain_loss: 0.00016\tdev_loss: 0.00119\teltime:  55.61719\n",
      "epoch: 47\ttrain_loss: 0.00019\tdev_loss: 0.00134\teltime:  56.56047\n",
      "epoch: 48\ttrain_loss: 0.00024\tdev_loss: 0.00120\teltime:  57.50458\n",
      "epoch: 49\ttrain_loss: 0.00027\tdev_loss: 0.00135\teltime:  58.44403\n",
      "epoch: 50\ttrain_loss: 0.00034\tdev_loss: 0.00138\teltime:  59.40243\n",
      "epoch: 51\ttrain_loss: 0.00037\tdev_loss: 0.00154\teltime:  60.34255\n",
      "epoch: 52\ttrain_loss: 0.00071\tdev_loss: 0.00124\teltime:  61.28444\n",
      "epoch: 53\ttrain_loss: 0.00036\tdev_loss: 0.00119\teltime:  62.22579\n",
      "epoch: 54\ttrain_loss: 0.00028\tdev_loss: 0.00130\teltime:  63.16530\n",
      "epoch: 55\ttrain_loss: 0.00018\tdev_loss: 0.00137\teltime:  64.10713\n",
      "epoch: 56\ttrain_loss: 0.00042\tdev_loss: 0.00127\teltime:  65.05172\n",
      "epoch: 57\ttrain_loss: 0.00041\tdev_loss: 0.00137\teltime:  65.99945\n",
      "epoch: 58\ttrain_loss: 0.00061\tdev_loss: 0.00167\teltime:  66.94899\n",
      "epoch: 59\ttrain_loss: 0.00064\tdev_loss: 0.00114\teltime:  67.91283\n",
      "epoch: 60\ttrain_loss: 0.00022\tdev_loss: 0.00136\teltime:  68.90871\n",
      "epoch: 61\ttrain_loss: 0.00032\tdev_loss: 0.00127\teltime:  69.80345\n",
      "epoch: 62\ttrain_loss: 0.00029\tdev_loss: 0.00162\teltime:  70.70400\n",
      "epoch: 63\ttrain_loss: 0.00020\tdev_loss: 0.00137\teltime:  71.64002\n",
      "epoch: 64\ttrain_loss: 0.00020\tdev_loss: 0.00103\teltime:  72.57190\n",
      "epoch: 65\ttrain_loss: 0.00039\tdev_loss: 0.00131\teltime:  73.51154\n",
      "epoch: 66\ttrain_loss: 0.00028\tdev_loss: 0.00138\teltime:  74.45943\n",
      "epoch: 67\ttrain_loss: 0.00042\tdev_loss: 0.00157\teltime:  75.41890\n",
      "epoch: 68\ttrain_loss: 0.00018\tdev_loss: 0.00130\teltime:  76.40267\n",
      "epoch: 69\ttrain_loss: 0.00015\tdev_loss: 0.00125\teltime:  77.36708\n",
      "epoch: 70\ttrain_loss: 0.00020\tdev_loss: 0.00127\teltime:  78.32571\n",
      "epoch: 71\ttrain_loss: 0.00072\tdev_loss: 0.00114\teltime:  79.27631\n",
      "epoch: 72\ttrain_loss: 0.00035\tdev_loss: 0.00110\teltime:  80.21838\n",
      "epoch: 73\ttrain_loss: 0.00039\tdev_loss: 0.00115\teltime:  81.15546\n",
      "epoch: 74\ttrain_loss: 0.00039\tdev_loss: 0.00121\teltime:  82.10049\n",
      "epoch: 75\ttrain_loss: 0.00026\tdev_loss: 0.00123\teltime:  83.06170\n",
      "epoch: 76\ttrain_loss: 0.00022\tdev_loss: 0.00155\teltime:  84.00630\n",
      "epoch: 77\ttrain_loss: 0.00012\tdev_loss: 0.00115\teltime:  84.94555\n",
      "epoch: 78\ttrain_loss: 0.00022\tdev_loss: 0.00128\teltime:  85.89274\n",
      "epoch: 79\ttrain_loss: 0.00022\tdev_loss: 0.00113\teltime:  86.85112\n",
      "epoch: 80\ttrain_loss: 0.00052\tdev_loss: 0.00123\teltime:  87.81127\n",
      "epoch: 81\ttrain_loss: 0.00032\tdev_loss: 0.00150\teltime:  88.75332\n",
      "epoch: 82\ttrain_loss: 0.00028\tdev_loss: 0.00120\teltime:  89.69912\n",
      "epoch: 83\ttrain_loss: 0.00027\tdev_loss: 0.00114\teltime:  90.64618\n",
      "epoch: 84\ttrain_loss: 0.00034\tdev_loss: 0.00156\teltime:  91.59077\n",
      "epoch: 85\ttrain_loss: 0.00052\tdev_loss: 0.00117\teltime:  92.53329\n",
      "epoch: 86\ttrain_loss: 0.00027\tdev_loss: 0.00133\teltime:  93.41748\n",
      "epoch: 87\ttrain_loss: 0.00025\tdev_loss: 0.00123\teltime:  94.29724\n",
      "epoch: 88\ttrain_loss: 0.00032\tdev_loss: 0.00131\teltime:  95.16326\n",
      "epoch: 89\ttrain_loss: 0.00028\tdev_loss: 0.00118\teltime:  96.04843\n",
      "epoch: 90\ttrain_loss: 0.00021\tdev_loss: 0.00115\teltime:  96.92146\n",
      "epoch: 91\ttrain_loss: 0.00081\tdev_loss: 0.00123\teltime:  97.84625\n",
      "epoch: 92\ttrain_loss: 0.00027\tdev_loss: 0.00124\teltime:  98.79839\n",
      "epoch: 93\ttrain_loss: 0.00040\tdev_loss: 0.00154\teltime:  99.75004\n",
      "epoch: 94\ttrain_loss: 0.00025\tdev_loss: 0.00117\teltime:  100.70155\n",
      "epoch: 95\ttrain_loss: 0.00022\tdev_loss: 0.00133\teltime:  101.58372\n",
      "epoch: 96\ttrain_loss: 0.00020\tdev_loss: 0.00119\teltime:  102.57121\n",
      "epoch: 97\ttrain_loss: 0.00102\tdev_loss: 0.00183\teltime:  103.59654\n",
      "epoch: 98\ttrain_loss: 0.00067\tdev_loss: 0.00117\teltime:  104.51762\n",
      "epoch: 99\ttrain_loss: 0.00028\tdev_loss: 0.00125\teltime:  105.39571\n"
     ]
    },
    {
     "data": {
      "text/plain": [
       "<All keys matched successfully>"
      ]
     },
     "execution_count": 21,
     "metadata": {},
     "output_type": "execute_result"
    }
   ],
   "source": [
    "N_EPOCHS = 100\n",
    "\n",
    "problem = problem.to(device=device)\n",
    "\n",
    "trainer = Trainer(\n",
    "    problem,\n",
    "    train_loader,\n",
    "    val_loader,\n",
    "    test_loader,\n",
    "    optimizer,\n",
    "    patience=100,\n",
    "    warmup=500,\n",
    "    epochs=N_EPOCHS,\n",
    "    eval_metric=\"dev_loss\",\n",
    "    train_metric=\"train_loss\",\n",
    "    dev_metric=\"dev_loss\",\n",
    "    test_metric=\"dev_loss\",\n",
    "    logger=logger,\n",
    "    device=device\n",
    ")\n",
    "\n",
    "best_model = trainer.train()\n",
    "problem.load_state_dict(best_model)"
   ]
  },
  {
   "cell_type": "markdown",
   "metadata": {},
   "source": [
    "### Test the model on test set, show performance metrics and plot forecasts"
   ]
  },
  {
   "cell_type": "code",
   "execution_count": 22,
   "metadata": {},
   "outputs": [
    {
     "name": "stdout",
     "output_type": "stream",
     "text": [
      "Testing on test set...\n",
      "Root Mean Squared Error (RMSE): 31.182369314435928\n",
      "Mean Absolute Error (MAE): 22.79\n",
      "Mean Absolute Percentage Error (MAPE): 1.90%\n"
     ]
    },
    {
     "data": {
      "image/png": "[encoded data removed]",
      "text/plain": [
       "<Figure size 1000x600 with 1 Axes>"
      ]
     },
     "metadata": {},
     "output_type": "display_data"
    }
   ],
   "source": [
    "# Define a function to compute inverse transform of target variable only\n",
    "\n",
    "def inverse_tranform_y(y_scaled):\n",
    "    y = y_scaled - scaler.min_[0]\n",
    "    y = y / scaler.scale_[0]\n",
    "    return y\n",
    "\n",
    "print(\"Testing on test set...\")\n",
    "with torch.no_grad():\n",
    "    X_test_tensor = torch.tensor(X_test, dtype=torch.float32)\n",
    "    X_test_tensor = X_test_tensor.to(device)\n",
    "    y_test_tensor = torch.tensor(y_test, dtype=torch.float32).to(device)\n",
    "\n",
    "    y_pred = model(X_test_tensor)#.numpy()\n",
    "\n",
    "    y_pred_scaled = inverse_tranform_y(y_pred.cpu())\n",
    "    y_test_scaled = inverse_tranform_y(y_test)\n",
    "\n",
    "    # Calculate RMSE\n",
    "    mse = mean_squared_error(y_test_scaled, y_pred_scaled)\n",
    "    rmse = np.sqrt(mse)\n",
    "    print(f\"Root Mean Squared Error (RMSE): {rmse}\")\n",
    "    mae = mean_absolute_error(y_test_scaled, y_pred_scaled)\n",
    "    print(f\"Mean Absolute Error (MAE): {mae:.2f}\")\n",
    "    mape = mean_absolute_percentage_error(y_test_scaled, y_pred_scaled) * 100\n",
    "    print(f\"Mean Absolute Percentage Error (MAPE): {mape:.2f}%\")\n",
    "\n",
    "# Visualize predictions against actual data\n",
    "plt.figure(figsize=(10, 6))\n",
    "plt.plot(df_test.index[seq_length:], y_test_scaled, label='Actual')\n",
    "plt.plot(df_test.index[seq_length:], y_pred_scaled, label='Predicted')\n",
    "plt.xlabel('Date')\n",
    "plt.ylabel('Electricity Load (MWh)')\n",
    "plt.title('Panama Electricity Load Forecasting')\n",
    "plt.grid()\n",
    "plt.legend()\n",
    "plt.show()"
   ]
  }
 ],
 "metadata": {
  "kernelspec": {
   "display_name": "neuromancer",
   "language": "python",
   "name": "python3"
  },
  "language_info": {
   "codemirror_mode": {
    "name": "ipython",
    "version": 3
   },
   "file_extension": ".py",
   "mimetype": "text/x-python",
   "name": "python",
   "nbconvert_exporter": "python",
   "pygments_lexer": "ipython3",
   "version": "3.10.4"
  }
 },
 "nbformat": 4,
 "nbformat_minor": 2
}
